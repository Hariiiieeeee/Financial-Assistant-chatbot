{
  "cells": [
    {
      "cell_type": "code",
      "execution_count": 1,
      "metadata": {
        "id": "qIHiQpKPO5td"
      },
      "outputs": [],
      "source": [
        "import pandas as pd\n",
        "import numpy as np"
      ]
    },
    {
      "cell_type": "code",
      "execution_count": 3,
      "metadata": {
        "colab": {
          "base_uri": "https://localhost:8080/",
          "height": 1000
        },
        "id": "PP78KXNTLi01",
        "outputId": "30e335bc-c607-4fe2-9a8a-3c6fdf1f8dd3"
      },
      "outputs": [
        {
          "data": {
            "text/html": [
              "<div>\n",
              "<style scoped>\n",
              "    .dataframe tbody tr th:only-of-type {\n",
              "        vertical-align: middle;\n",
              "    }\n",
              "\n",
              "    .dataframe tbody tr th {\n",
              "        vertical-align: top;\n",
              "    }\n",
              "\n",
              "    .dataframe thead th {\n",
              "        text-align: right;\n",
              "    }\n",
              "</style>\n",
              "<table border=\"1\" class=\"dataframe\">\n",
              "  <thead>\n",
              "    <tr style=\"text-align: right;\">\n",
              "      <th></th>\n",
              "      <th>tag</th>\n",
              "      <th>patterns</th>\n",
              "      <th>responses</th>\n",
              "    </tr>\n",
              "  </thead>\n",
              "  <tbody>\n",
              "    <tr>\n",
              "      <th>0</th>\n",
              "      <td>greeting</td>\n",
              "      <td>[Hi, Hello, Good morning, Good afternoon, Good...</td>\n",
              "      <td>[Hello! How can I assist you with your finance...</td>\n",
              "    </tr>\n",
              "    <tr>\n",
              "      <th>1</th>\n",
              "      <td>investment_advice</td>\n",
              "      <td>[What are the best investments?, Where should ...</td>\n",
              "      <td>[The best investment depends on your financial...</td>\n",
              "    </tr>\n",
              "    <tr>\n",
              "      <th>2</th>\n",
              "      <td>budgeting</td>\n",
              "      <td>[How do I create a budget?, Help me with budge...</td>\n",
              "      <td>[To create a budget, list your income and expe...</td>\n",
              "    </tr>\n",
              "    <tr>\n",
              "      <th>3</th>\n",
              "      <td>retirement_planning</td>\n",
              "      <td>[How much should I save for retirement?, When ...</td>\n",
              "      <td>[It's never too early to start saving for reti...</td>\n",
              "    </tr>\n",
              "    <tr>\n",
              "      <th>4</th>\n",
              "      <td>tax_saving</td>\n",
              "      <td>[How can I save on taxes?, What are the best t...</td>\n",
              "      <td>[You can save on taxes through retirement acco...</td>\n",
              "    </tr>\n",
              "    <tr>\n",
              "      <th>5</th>\n",
              "      <td>loan_advice</td>\n",
              "      <td>[Should I take a loan?, What are the best loan...</td>\n",
              "      <td>[The decision to take a loan depends on your f...</td>\n",
              "    </tr>\n",
              "    <tr>\n",
              "      <th>6</th>\n",
              "      <td>credit_score</td>\n",
              "      <td>[How can I improve my credit score?, What affe...</td>\n",
              "      <td>[To improve your credit score, pay your bills ...</td>\n",
              "    </tr>\n",
              "    <tr>\n",
              "      <th>7</th>\n",
              "      <td>financial_goals</td>\n",
              "      <td>[How should I set financial goals?, Help me se...</td>\n",
              "      <td>[Start by defining short, medium, and long-ter...</td>\n",
              "    </tr>\n",
              "    <tr>\n",
              "      <th>8</th>\n",
              "      <td>emergency_fund</td>\n",
              "      <td>[How much should I save in an emergency fund?,...</td>\n",
              "      <td>[An emergency fund should cover 3 to 6 months ...</td>\n",
              "    </tr>\n",
              "    <tr>\n",
              "      <th>9</th>\n",
              "      <td>insurance_advice</td>\n",
              "      <td>[What type of insurance should I get?, Do I ne...</td>\n",
              "      <td>[Life, health, and auto insurance are essentia...</td>\n",
              "    </tr>\n",
              "    <tr>\n",
              "      <th>10</th>\n",
              "      <td>health_insurance</td>\n",
              "      <td>[What is health insurance?, How does health in...</td>\n",
              "      <td>[Health insurance helps cover medical expenses...</td>\n",
              "    </tr>\n",
              "    <tr>\n",
              "      <th>11</th>\n",
              "      <td>life_insurance</td>\n",
              "      <td>[What is life insurance?, Do I need life insur...</td>\n",
              "      <td>[Life insurance provides financial support to ...</td>\n",
              "    </tr>\n",
              "    <tr>\n",
              "      <th>12</th>\n",
              "      <td>auto_insurance</td>\n",
              "      <td>[What is auto insurance?, How do I choose auto...</td>\n",
              "      <td>[Auto insurance covers damage to your car and ...</td>\n",
              "    </tr>\n",
              "    <tr>\n",
              "      <th>13</th>\n",
              "      <td>disability_insurance</td>\n",
              "      <td>[What is disability insurance?, Do I need disa...</td>\n",
              "      <td>[Disability insurance provides income if you'r...</td>\n",
              "    </tr>\n",
              "    <tr>\n",
              "      <th>14</th>\n",
              "      <td>home_insurance</td>\n",
              "      <td>[What is home insurance?, Do I need home insur...</td>\n",
              "      <td>[Home insurance covers damage to your property...</td>\n",
              "    </tr>\n",
              "    <tr>\n",
              "      <th>15</th>\n",
              "      <td>savings_plan</td>\n",
              "      <td>[How can I save money?, What is a good savings...</td>\n",
              "      <td>[Start by setting specific savings goals and a...</td>\n",
              "    </tr>\n",
              "    <tr>\n",
              "      <th>16</th>\n",
              "      <td>investment_risk</td>\n",
              "      <td>[What is my risk tolerance?, How do I assess i...</td>\n",
              "      <td>[Your risk tolerance depends on your financial...</td>\n",
              "    </tr>\n",
              "    <tr>\n",
              "      <th>17</th>\n",
              "      <td>financial_advisor</td>\n",
              "      <td>[Do I need a financial advisor?, Should I hire...</td>\n",
              "      <td>[A financial advisor can help with investment ...</td>\n",
              "    </tr>\n",
              "    <tr>\n",
              "      <th>18</th>\n",
              "      <td>retirement_accounts</td>\n",
              "      <td>[What is an IRA?, Tell me about retirement acc...</td>\n",
              "      <td>[An IRA and 401(k) are tax-advantaged accounts...</td>\n",
              "    </tr>\n",
              "    <tr>\n",
              "      <th>19</th>\n",
              "      <td>pension</td>\n",
              "      <td>[What is a pension?, How does a pension work?,...</td>\n",
              "      <td>[A pension provides income after retirement, u...</td>\n",
              "    </tr>\n",
              "    <tr>\n",
              "      <th>20</th>\n",
              "      <td>retirement_calculator</td>\n",
              "      <td>[How much do I need to retire?, Can you calcul...</td>\n",
              "      <td>[The amount you need for retirement depends on...</td>\n",
              "    </tr>\n",
              "    <tr>\n",
              "      <th>21</th>\n",
              "      <td>estate_planning</td>\n",
              "      <td>[What is estate planning?, How do I create an ...</td>\n",
              "      <td>[Estate planning ensures your assets are distr...</td>\n",
              "    </tr>\n",
              "    <tr>\n",
              "      <th>22</th>\n",
              "      <td>tax_planning</td>\n",
              "      <td>[What is tax planning?, How can I reduce my ta...</td>\n",
              "      <td>[Tax planning involves strategies to reduce yo...</td>\n",
              "    </tr>\n",
              "    <tr>\n",
              "      <th>23</th>\n",
              "      <td>college_savings</td>\n",
              "      <td>[How do I save for college?, What is a 529 pla...</td>\n",
              "      <td>[A 529 plan is a tax-advantaged account for co...</td>\n",
              "    </tr>\n",
              "    <tr>\n",
              "      <th>24</th>\n",
              "      <td>financial_aid</td>\n",
              "      <td>[What is financial aid?, Can I get financial a...</td>\n",
              "      <td>[Financial aid helps cover education costs thr...</td>\n",
              "    </tr>\n",
              "    <tr>\n",
              "      <th>25</th>\n",
              "      <td>loan_consolidation</td>\n",
              "      <td>[What is loan consolidation?, Should I consoli...</td>\n",
              "      <td>[Loan consolidation combines multiple loans in...</td>\n",
              "    </tr>\n",
              "    <tr>\n",
              "      <th>26</th>\n",
              "      <td>student_loans</td>\n",
              "      <td>[How do student loans work?, Should I take out...</td>\n",
              "      <td>[Student loans help cover the cost of educatio...</td>\n",
              "    </tr>\n",
              "    <tr>\n",
              "      <th>27</th>\n",
              "      <td>debt_management</td>\n",
              "      <td>[How do I manage my debt?, Help me with debt m...</td>\n",
              "      <td>[Managing debt involves paying down high-inter...</td>\n",
              "    </tr>\n",
              "    <tr>\n",
              "      <th>28</th>\n",
              "      <td>credit_cards</td>\n",
              "      <td>[What is a good credit card?, How do I choose ...</td>\n",
              "      <td>[Choosing a credit card depends on your spendi...</td>\n",
              "    </tr>\n",
              "    <tr>\n",
              "      <th>29</th>\n",
              "      <td>goodbye</td>\n",
              "      <td>[Goodbye, Bye, See you later, Talk to you late...</td>\n",
              "      <td>[Goodbye! Feel free to reach out anytime you n...</td>\n",
              "    </tr>\n",
              "    <tr>\n",
              "      <th>30</th>\n",
              "      <td>default</td>\n",
              "      <td>[I need help with money, Can you give me finan...</td>\n",
              "      <td>[I can help with budgeting, investments, insur...</td>\n",
              "    </tr>\n",
              "  </tbody>\n",
              "</table>\n",
              "</div>"
            ],
            "text/plain": [
              "                      tag                                           patterns  \\\n",
              "0                greeting  [Hi, Hello, Good morning, Good afternoon, Good...   \n",
              "1       investment_advice  [What are the best investments?, Where should ...   \n",
              "2               budgeting  [How do I create a budget?, Help me with budge...   \n",
              "3     retirement_planning  [How much should I save for retirement?, When ...   \n",
              "4              tax_saving  [How can I save on taxes?, What are the best t...   \n",
              "5             loan_advice  [Should I take a loan?, What are the best loan...   \n",
              "6            credit_score  [How can I improve my credit score?, What affe...   \n",
              "7         financial_goals  [How should I set financial goals?, Help me se...   \n",
              "8          emergency_fund  [How much should I save in an emergency fund?,...   \n",
              "9        insurance_advice  [What type of insurance should I get?, Do I ne...   \n",
              "10       health_insurance  [What is health insurance?, How does health in...   \n",
              "11         life_insurance  [What is life insurance?, Do I need life insur...   \n",
              "12         auto_insurance  [What is auto insurance?, How do I choose auto...   \n",
              "13   disability_insurance  [What is disability insurance?, Do I need disa...   \n",
              "14         home_insurance  [What is home insurance?, Do I need home insur...   \n",
              "15           savings_plan  [How can I save money?, What is a good savings...   \n",
              "16        investment_risk  [What is my risk tolerance?, How do I assess i...   \n",
              "17      financial_advisor  [Do I need a financial advisor?, Should I hire...   \n",
              "18    retirement_accounts  [What is an IRA?, Tell me about retirement acc...   \n",
              "19                pension  [What is a pension?, How does a pension work?,...   \n",
              "20  retirement_calculator  [How much do I need to retire?, Can you calcul...   \n",
              "21        estate_planning  [What is estate planning?, How do I create an ...   \n",
              "22           tax_planning  [What is tax planning?, How can I reduce my ta...   \n",
              "23        college_savings  [How do I save for college?, What is a 529 pla...   \n",
              "24          financial_aid  [What is financial aid?, Can I get financial a...   \n",
              "25     loan_consolidation  [What is loan consolidation?, Should I consoli...   \n",
              "26          student_loans  [How do student loans work?, Should I take out...   \n",
              "27        debt_management  [How do I manage my debt?, Help me with debt m...   \n",
              "28           credit_cards  [What is a good credit card?, How do I choose ...   \n",
              "29                goodbye  [Goodbye, Bye, See you later, Talk to you late...   \n",
              "30                default  [I need help with money, Can you give me finan...   \n",
              "\n",
              "                                            responses  \n",
              "0   [Hello! How can I assist you with your finance...  \n",
              "1   [The best investment depends on your financial...  \n",
              "2   [To create a budget, list your income and expe...  \n",
              "3   [It's never too early to start saving for reti...  \n",
              "4   [You can save on taxes through retirement acco...  \n",
              "5   [The decision to take a loan depends on your f...  \n",
              "6   [To improve your credit score, pay your bills ...  \n",
              "7   [Start by defining short, medium, and long-ter...  \n",
              "8   [An emergency fund should cover 3 to 6 months ...  \n",
              "9   [Life, health, and auto insurance are essentia...  \n",
              "10  [Health insurance helps cover medical expenses...  \n",
              "11  [Life insurance provides financial support to ...  \n",
              "12  [Auto insurance covers damage to your car and ...  \n",
              "13  [Disability insurance provides income if you'r...  \n",
              "14  [Home insurance covers damage to your property...  \n",
              "15  [Start by setting specific savings goals and a...  \n",
              "16  [Your risk tolerance depends on your financial...  \n",
              "17  [A financial advisor can help with investment ...  \n",
              "18  [An IRA and 401(k) are tax-advantaged accounts...  \n",
              "19  [A pension provides income after retirement, u...  \n",
              "20  [The amount you need for retirement depends on...  \n",
              "21  [Estate planning ensures your assets are distr...  \n",
              "22  [Tax planning involves strategies to reduce yo...  \n",
              "23  [A 529 plan is a tax-advantaged account for co...  \n",
              "24  [Financial aid helps cover education costs thr...  \n",
              "25  [Loan consolidation combines multiple loans in...  \n",
              "26  [Student loans help cover the cost of educatio...  \n",
              "27  [Managing debt involves paying down high-inter...  \n",
              "28  [Choosing a credit card depends on your spendi...  \n",
              "29  [Goodbye! Feel free to reach out anytime you n...  \n",
              "30  [I can help with budgeting, investments, insur...  "
            ]
          },
          "execution_count": 3,
          "metadata": {},
          "output_type": "execute_result"
        }
      ],
      "source": [
        "import json\n",
        "\n",
        "with open('intents1.json', 'r') as f:\n",
        "    data = json.load(f)\n",
        "\n",
        "df = pd.DataFrame(data['intents'])\n",
        "df"
      ]
    },
    {
      "cell_type": "code",
      "execution_count": 4,
      "metadata": {
        "colab": {
          "base_uri": "https://localhost:8080/",
          "height": 423
        },
        "id": "8vRkOHMuLi02",
        "outputId": "04de5c17-25b8-4eee-fbf1-64c9f362f5bc"
      },
      "outputs": [
        {
          "data": {
            "text/html": [
              "<div>\n",
              "<style scoped>\n",
              "    .dataframe tbody tr th:only-of-type {\n",
              "        vertical-align: middle;\n",
              "    }\n",
              "\n",
              "    .dataframe tbody tr th {\n",
              "        vertical-align: top;\n",
              "    }\n",
              "\n",
              "    .dataframe thead th {\n",
              "        text-align: right;\n",
              "    }\n",
              "</style>\n",
              "<table border=\"1\" class=\"dataframe\">\n",
              "  <thead>\n",
              "    <tr style=\"text-align: right;\">\n",
              "      <th></th>\n",
              "      <th>tag</th>\n",
              "      <th>patterns</th>\n",
              "      <th>responses</th>\n",
              "    </tr>\n",
              "  </thead>\n",
              "  <tbody>\n",
              "    <tr>\n",
              "      <th>0</th>\n",
              "      <td>greeting</td>\n",
              "      <td>Hi</td>\n",
              "      <td>[Hello! How can I assist you with your finance...</td>\n",
              "    </tr>\n",
              "    <tr>\n",
              "      <th>1</th>\n",
              "      <td>greeting</td>\n",
              "      <td>Hello</td>\n",
              "      <td>[Hello! How can I assist you with your finance...</td>\n",
              "    </tr>\n",
              "    <tr>\n",
              "      <th>2</th>\n",
              "      <td>greeting</td>\n",
              "      <td>Good morning</td>\n",
              "      <td>[Hello! How can I assist you with your finance...</td>\n",
              "    </tr>\n",
              "    <tr>\n",
              "      <th>3</th>\n",
              "      <td>greeting</td>\n",
              "      <td>Good afternoon</td>\n",
              "      <td>[Hello! How can I assist you with your finance...</td>\n",
              "    </tr>\n",
              "    <tr>\n",
              "      <th>4</th>\n",
              "      <td>greeting</td>\n",
              "      <td>Good evening</td>\n",
              "      <td>[Hello! How can I assist you with your finance...</td>\n",
              "    </tr>\n",
              "    <tr>\n",
              "      <th>...</th>\n",
              "      <td>...</td>\n",
              "      <td>...</td>\n",
              "      <td>...</td>\n",
              "    </tr>\n",
              "    <tr>\n",
              "      <th>99</th>\n",
              "      <td>goodbye</td>\n",
              "      <td>Talk to you later</td>\n",
              "      <td>[Goodbye! Feel free to reach out anytime you n...</td>\n",
              "    </tr>\n",
              "    <tr>\n",
              "      <th>100</th>\n",
              "      <td>goodbye</td>\n",
              "      <td>Thanks, bye</td>\n",
              "      <td>[Goodbye! Feel free to reach out anytime you n...</td>\n",
              "    </tr>\n",
              "    <tr>\n",
              "      <th>101</th>\n",
              "      <td>default</td>\n",
              "      <td>I need help with money</td>\n",
              "      <td>[I can help with budgeting, investments, insur...</td>\n",
              "    </tr>\n",
              "    <tr>\n",
              "      <th>102</th>\n",
              "      <td>default</td>\n",
              "      <td>Can you give me financial advice?</td>\n",
              "      <td>[I can help with budgeting, investments, insur...</td>\n",
              "    </tr>\n",
              "    <tr>\n",
              "      <th>103</th>\n",
              "      <td>default</td>\n",
              "      <td>How to manage money?</td>\n",
              "      <td>[I can help with budgeting, investments, insur...</td>\n",
              "    </tr>\n",
              "  </tbody>\n",
              "</table>\n",
              "<p>104 rows × 3 columns</p>\n",
              "</div>"
            ],
            "text/plain": [
              "          tag                           patterns  \\\n",
              "0    greeting                                 Hi   \n",
              "1    greeting                              Hello   \n",
              "2    greeting                       Good morning   \n",
              "3    greeting                     Good afternoon   \n",
              "4    greeting                       Good evening   \n",
              "..        ...                                ...   \n",
              "99    goodbye                  Talk to you later   \n",
              "100   goodbye                        Thanks, bye   \n",
              "101   default             I need help with money   \n",
              "102   default  Can you give me financial advice?   \n",
              "103   default               How to manage money?   \n",
              "\n",
              "                                             responses  \n",
              "0    [Hello! How can I assist you with your finance...  \n",
              "1    [Hello! How can I assist you with your finance...  \n",
              "2    [Hello! How can I assist you with your finance...  \n",
              "3    [Hello! How can I assist you with your finance...  \n",
              "4    [Hello! How can I assist you with your finance...  \n",
              "..                                                 ...  \n",
              "99   [Goodbye! Feel free to reach out anytime you n...  \n",
              "100  [Goodbye! Feel free to reach out anytime you n...  \n",
              "101  [I can help with budgeting, investments, insur...  \n",
              "102  [I can help with budgeting, investments, insur...  \n",
              "103  [I can help with budgeting, investments, insur...  \n",
              "\n",
              "[104 rows x 3 columns]"
            ]
          },
          "execution_count": 4,
          "metadata": {},
          "output_type": "execute_result"
        }
      ],
      "source": [
        "dic = {\"tag\":[], \"patterns\":[], \"responses\":[]}\n",
        "for i in range(len(df)):\n",
        "    ptrns = df[df.index == i]['patterns'].values[0]\n",
        "    rspns = df[df.index == i]['responses'].values[0]\n",
        "    tag = df[df.index == i]['tag'].values[0]\n",
        "    for j in range(len(ptrns)):\n",
        "        dic['tag'].append(tag)\n",
        "        dic['patterns'].append(ptrns[j])\n",
        "        dic['responses'].append(rspns)\n",
        "\n",
        "df = pd.DataFrame.from_dict(dic)\n",
        "df"
      ]
    },
    {
      "cell_type": "code",
      "execution_count": 5,
      "metadata": {
        "colab": {
          "base_uri": "https://localhost:8080/"
        },
        "id": "qX3heCccLi02",
        "outputId": "990618f0-8e3b-43b5-d8d1-77bb4d24ffa3"
      },
      "outputs": [
        {
          "data": {
            "text/plain": [
              "array(['greeting', 'investment_advice', 'budgeting',\n",
              "       'retirement_planning', 'tax_saving', 'loan_advice', 'credit_score',\n",
              "       'financial_goals', 'emergency_fund', 'insurance_advice',\n",
              "       'health_insurance', 'life_insurance', 'auto_insurance',\n",
              "       'disability_insurance', 'home_insurance', 'savings_plan',\n",
              "       'investment_risk', 'financial_advisor', 'retirement_accounts',\n",
              "       'pension', 'retirement_calculator', 'estate_planning',\n",
              "       'tax_planning', 'college_savings', 'financial_aid',\n",
              "       'loan_consolidation', 'student_loans', 'debt_management',\n",
              "       'credit_cards', 'goodbye', 'default'], dtype=object)"
            ]
          },
          "execution_count": 5,
          "metadata": {},
          "output_type": "execute_result"
        }
      ],
      "source": [
        "df['tag'].unique()"
      ]
    },
    {
      "cell_type": "markdown",
      "metadata": {
        "id": "MXlotci3Li03"
      },
      "source": [
        "# Data Preprocessing"
      ]
    },
    {
      "cell_type": "code",
      "execution_count": 7,
      "metadata": {
        "colab": {
          "base_uri": "https://localhost:8080/"
        },
        "id": "4Vuy3sDiLi04",
        "outputId": "329657a8-4d82-4a17-d8a8-d054b10532b3"
      },
      "outputs": [
        {
          "data": {
            "text/plain": [
              "{'num_words': None,\n",
              " 'filters': '!\"#$%&()*+,-./:;<=>?@[\\\\]^_`{|}~\\t\\n',\n",
              " 'lower': True,\n",
              " 'split': ' ',\n",
              " 'char_level': False,\n",
              " 'oov_token': None,\n",
              " 'document_count': 104,\n",
              " 'word_counts': '{\"hi\": 1, \"hello\": 1, \"good\": 6, \"morning\": 1, \"afternoon\": 1, \"evening\": 1, \"hey\": 1, \"what\": 28, \"are\": 5, \"the\": 8, \"best\": 8, \"investments\": 1, \"where\": 1, \"should\": 14, \"i\": 41, \"invest\": 1, \"my\": 9, \"money\": 5, \"investment\": 3, \"options\": 3, \"tell\": 2, \"me\": 13, \"about\": 2, \"opportunities\": 1, \"how\": 27, \"do\": 22, \"create\": 2, \"a\": 17, \"budget\": 3, \"help\": 13, \"with\": 7, \"budgeting\": 1, \"is\": 20, \"way\": 1, \"to\": 7, \"plan\": 6, \"much\": 5, \"save\": 7, \"for\": 6, \"retirement\": 7, \"when\": 2, \"start\": 1, \"saving\": 2, \"can\": 11, \"on\": 1, \"taxes\": 2, \"tax\": 4, \"planning\": 4, \"take\": 4, \"loan\": 6, \"manage\": 3, \"loans\": 4, \"it\": 1, \"personal\": 1, \"improve\": 2, \"credit\": 6, \"score\": 3, \"affects\": 1, \"set\": 2, \"financial\": 10, \"goals\": 3, \"prioritize\": 1, \"in\": 1, \"an\": 6, \"emergency\": 3, \"fund\": 3, \"why\": 1, \"need\": 12, \"type\": 1, \"of\": 2, \"insurance\": 20, \"get\": 4, \"life\": 4, \"policy\": 2, \"health\": 4, \"choose\": 3, \"does\": 7, \"work\": 6, \"types\": 1, \"auto\": 2, \"car\": 1, \"disability\": 3, \"home\": 3, \"cover\": 1, \"savings\": 2, \"more\": 1, \"risk\": 3, \"tolerance\": 1, \"assess\": 1, \"investing\": 1, \"advisor\": 3, \"hire\": 1, \"ira\": 1, \"accounts\": 1, \"401\": 1, \"k\": 1, \"which\": 1, \"account\": 1, \"use\": 1, \"pension\": 3, \"retire\": 1, \"you\": 7, \"calculate\": 1, \"needs\": 1, \"estate\": 2, \"will\": 1, \"reduce\": 2, \"college\": 3, \"529\": 1, \"aid\": 3, \"consolidation\": 2, \"consolidate\": 1, \"student\": 3, \"out\": 1, \"debt\": 3, \"management\": 1, \"ways\": 1, \"card\": 3, \"find\": 1, \"goodbye\": 1, \"bye\": 2, \"see\": 1, \"later\": 2, \"talk\": 1, \"thanks\": 1, \"give\": 1, \"advice\": 1}',\n",
              " 'word_docs': '{\"hi\": 1, \"hello\": 1, \"morning\": 1, \"good\": 6, \"afternoon\": 1, \"evening\": 1, \"hey\": 1, \"the\": 8, \"what\": 28, \"are\": 5, \"investments\": 1, \"best\": 8, \"invest\": 1, \"my\": 9, \"i\": 41, \"should\": 14, \"money\": 5, \"where\": 1, \"options\": 3, \"investment\": 3, \"tell\": 2, \"about\": 2, \"opportunities\": 1, \"me\": 13, \"budget\": 3, \"how\": 27, \"do\": 22, \"a\": 17, \"create\": 2, \"help\": 13, \"with\": 7, \"budgeting\": 1, \"is\": 20, \"way\": 1, \"to\": 7, \"plan\": 6, \"for\": 6, \"retirement\": 7, \"save\": 7, \"much\": 5, \"start\": 1, \"saving\": 2, \"when\": 2, \"can\": 11, \"on\": 1, \"taxes\": 2, \"tax\": 4, \"planning\": 4, \"take\": 4, \"loan\": 6, \"loans\": 4, \"manage\": 3, \"personal\": 1, \"it\": 1, \"credit\": 6, \"score\": 3, \"improve\": 2, \"affects\": 1, \"set\": 2, \"goals\": 3, \"financial\": 10, \"prioritize\": 1, \"in\": 1, \"an\": 6, \"fund\": 3, \"emergency\": 3, \"need\": 12, \"why\": 1, \"of\": 2, \"get\": 4, \"insurance\": 20, \"type\": 1, \"life\": 4, \"policy\": 2, \"health\": 4, \"choose\": 3, \"work\": 6, \"does\": 7, \"types\": 1, \"auto\": 2, \"car\": 1, \"disability\": 3, \"home\": 3, \"cover\": 1, \"savings\": 2, \"more\": 1, \"tolerance\": 1, \"risk\": 3, \"assess\": 1, \"investing\": 1, \"advisor\": 3, \"hire\": 1, \"ira\": 1, \"accounts\": 1, \"k\": 1, \"401\": 1, \"use\": 1, \"account\": 1, \"which\": 1, \"pension\": 3, \"retire\": 1, \"needs\": 1, \"you\": 7, \"calculate\": 1, \"estate\": 2, \"will\": 1, \"reduce\": 2, \"college\": 3, \"529\": 1, \"aid\": 3, \"consolidation\": 2, \"consolidate\": 1, \"student\": 3, \"out\": 1, \"debt\": 3, \"management\": 1, \"ways\": 1, \"card\": 3, \"find\": 1, \"goodbye\": 1, \"bye\": 2, \"see\": 1, \"later\": 2, \"talk\": 1, \"thanks\": 1, \"advice\": 1, \"give\": 1}',\n",
              " 'index_docs': '{\"76\": 1, \"77\": 1, \"78\": 1, \"23\": 6, \"79\": 1, \"80\": 1, \"81\": 1, \"15\": 8, \"2\": 28, \"30\": 5, \"82\": 1, \"16\": 8, \"84\": 1, \"14\": 9, \"1\": 41, \"8\": 14, \"31\": 5, \"83\": 1, \"41\": 3, \"40\": 3, \"59\": 2, \"60\": 2, \"85\": 1, \"9\": 13, \"42\": 3, \"3\": 27, \"4\": 22, \"7\": 17, \"61\": 2, \"10\": 13, \"17\": 7, \"86\": 1, \"5\": 20, \"87\": 1, \"18\": 7, \"24\": 6, \"25\": 6, \"20\": 7, \"19\": 7, \"32\": 5, \"88\": 1, \"63\": 2, \"62\": 2, \"12\": 11, \"89\": 1, \"64\": 2, \"33\": 4, \"34\": 4, \"35\": 4, \"26\": 6, \"36\": 4, \"43\": 3, \"91\": 1, \"90\": 1, \"27\": 6, \"44\": 3, \"65\": 2, \"92\": 1, \"66\": 2, \"45\": 3, \"13\": 10, \"93\": 1, \"94\": 1, \"28\": 6, \"47\": 3, \"46\": 3, \"11\": 12, \"95\": 1, \"67\": 2, \"37\": 4, \"6\": 20, \"96\": 1, \"38\": 4, \"68\": 2, \"39\": 4, \"48\": 3, \"29\": 6, \"21\": 7, \"97\": 1, \"69\": 2, \"98\": 1, \"49\": 3, \"50\": 3, \"99\": 1, \"70\": 2, \"100\": 1, \"101\": 1, \"51\": 3, \"102\": 1, \"103\": 1, \"52\": 3, \"104\": 1, \"105\": 1, \"106\": 1, \"108\": 1, \"107\": 1, \"111\": 1, \"110\": 1, \"109\": 1, \"53\": 3, \"112\": 1, \"114\": 1, \"22\": 7, \"113\": 1, \"71\": 2, \"115\": 1, \"72\": 2, \"54\": 3, \"116\": 1, \"55\": 3, \"73\": 2, \"117\": 1, \"56\": 3, \"118\": 1, \"57\": 3, \"119\": 1, \"120\": 1, \"58\": 3, \"121\": 1, \"122\": 1, \"74\": 2, \"123\": 1, \"75\": 2, \"124\": 1, \"125\": 1, \"127\": 1, \"126\": 1}',\n",
              " 'index_word': '{\"1\": \"i\", \"2\": \"what\", \"3\": \"how\", \"4\": \"do\", \"5\": \"is\", \"6\": \"insurance\", \"7\": \"a\", \"8\": \"should\", \"9\": \"me\", \"10\": \"help\", \"11\": \"need\", \"12\": \"can\", \"13\": \"financial\", \"14\": \"my\", \"15\": \"the\", \"16\": \"best\", \"17\": \"with\", \"18\": \"to\", \"19\": \"save\", \"20\": \"retirement\", \"21\": \"does\", \"22\": \"you\", \"23\": \"good\", \"24\": \"plan\", \"25\": \"for\", \"26\": \"loan\", \"27\": \"credit\", \"28\": \"an\", \"29\": \"work\", \"30\": \"are\", \"31\": \"money\", \"32\": \"much\", \"33\": \"tax\", \"34\": \"planning\", \"35\": \"take\", \"36\": \"loans\", \"37\": \"get\", \"38\": \"life\", \"39\": \"health\", \"40\": \"investment\", \"41\": \"options\", \"42\": \"budget\", \"43\": \"manage\", \"44\": \"score\", \"45\": \"goals\", \"46\": \"emergency\", \"47\": \"fund\", \"48\": \"choose\", \"49\": \"disability\", \"50\": \"home\", \"51\": \"risk\", \"52\": \"advisor\", \"53\": \"pension\", \"54\": \"college\", \"55\": \"aid\", \"56\": \"student\", \"57\": \"debt\", \"58\": \"card\", \"59\": \"tell\", \"60\": \"about\", \"61\": \"create\", \"62\": \"when\", \"63\": \"saving\", \"64\": \"taxes\", \"65\": \"improve\", \"66\": \"set\", \"67\": \"of\", \"68\": \"policy\", \"69\": \"auto\", \"70\": \"savings\", \"71\": \"estate\", \"72\": \"reduce\", \"73\": \"consolidation\", \"74\": \"bye\", \"75\": \"later\", \"76\": \"hi\", \"77\": \"hello\", \"78\": \"morning\", \"79\": \"afternoon\", \"80\": \"evening\", \"81\": \"hey\", \"82\": \"investments\", \"83\": \"where\", \"84\": \"invest\", \"85\": \"opportunities\", \"86\": \"budgeting\", \"87\": \"way\", \"88\": \"start\", \"89\": \"on\", \"90\": \"it\", \"91\": \"personal\", \"92\": \"affects\", \"93\": \"prioritize\", \"94\": \"in\", \"95\": \"why\", \"96\": \"type\", \"97\": \"types\", \"98\": \"car\", \"99\": \"cover\", \"100\": \"more\", \"101\": \"tolerance\", \"102\": \"assess\", \"103\": \"investing\", \"104\": \"hire\", \"105\": \"ira\", \"106\": \"accounts\", \"107\": \"401\", \"108\": \"k\", \"109\": \"which\", \"110\": \"account\", \"111\": \"use\", \"112\": \"retire\", \"113\": \"calculate\", \"114\": \"needs\", \"115\": \"will\", \"116\": \"529\", \"117\": \"consolidate\", \"118\": \"out\", \"119\": \"management\", \"120\": \"ways\", \"121\": \"find\", \"122\": \"goodbye\", \"123\": \"see\", \"124\": \"talk\", \"125\": \"thanks\", \"126\": \"give\", \"127\": \"advice\"}',\n",
              " 'word_index': '{\"i\": 1, \"what\": 2, \"how\": 3, \"do\": 4, \"is\": 5, \"insurance\": 6, \"a\": 7, \"should\": 8, \"me\": 9, \"help\": 10, \"need\": 11, \"can\": 12, \"financial\": 13, \"my\": 14, \"the\": 15, \"best\": 16, \"with\": 17, \"to\": 18, \"save\": 19, \"retirement\": 20, \"does\": 21, \"you\": 22, \"good\": 23, \"plan\": 24, \"for\": 25, \"loan\": 26, \"credit\": 27, \"an\": 28, \"work\": 29, \"are\": 30, \"money\": 31, \"much\": 32, \"tax\": 33, \"planning\": 34, \"take\": 35, \"loans\": 36, \"get\": 37, \"life\": 38, \"health\": 39, \"investment\": 40, \"options\": 41, \"budget\": 42, \"manage\": 43, \"score\": 44, \"goals\": 45, \"emergency\": 46, \"fund\": 47, \"choose\": 48, \"disability\": 49, \"home\": 50, \"risk\": 51, \"advisor\": 52, \"pension\": 53, \"college\": 54, \"aid\": 55, \"student\": 56, \"debt\": 57, \"card\": 58, \"tell\": 59, \"about\": 60, \"create\": 61, \"when\": 62, \"saving\": 63, \"taxes\": 64, \"improve\": 65, \"set\": 66, \"of\": 67, \"policy\": 68, \"auto\": 69, \"savings\": 70, \"estate\": 71, \"reduce\": 72, \"consolidation\": 73, \"bye\": 74, \"later\": 75, \"hi\": 76, \"hello\": 77, \"morning\": 78, \"afternoon\": 79, \"evening\": 80, \"hey\": 81, \"investments\": 82, \"where\": 83, \"invest\": 84, \"opportunities\": 85, \"budgeting\": 86, \"way\": 87, \"start\": 88, \"on\": 89, \"it\": 90, \"personal\": 91, \"affects\": 92, \"prioritize\": 93, \"in\": 94, \"why\": 95, \"type\": 96, \"types\": 97, \"car\": 98, \"cover\": 99, \"more\": 100, \"tolerance\": 101, \"assess\": 102, \"investing\": 103, \"hire\": 104, \"ira\": 105, \"accounts\": 106, \"401\": 107, \"k\": 108, \"which\": 109, \"account\": 110, \"use\": 111, \"retire\": 112, \"calculate\": 113, \"needs\": 114, \"will\": 115, \"529\": 116, \"consolidate\": 117, \"out\": 118, \"management\": 119, \"ways\": 120, \"find\": 121, \"goodbye\": 122, \"see\": 123, \"talk\": 124, \"thanks\": 125, \"give\": 126, \"advice\": 127}'}"
            ]
          },
          "execution_count": 7,
          "metadata": {},
          "output_type": "execute_result"
        }
      ],
      "source": [
        "from tensorflow.keras.preprocessing.text import Tokenizer\n",
        "\n",
        "tokenizer = Tokenizer(lower=True, split=' ')\n",
        "tokenizer.fit_on_texts(df['patterns'])\n",
        "tokenizer.get_config()"
      ]
    },
    {
      "cell_type": "code",
      "execution_count": 8,
      "metadata": {
        "colab": {
          "base_uri": "https://localhost:8080/"
        },
        "id": "g0KMWUywLi05",
        "outputId": "ae20aff3-f95b-4a20-eb9e-2d0cd3af4d95"
      },
      "outputs": [
        {
          "name": "stdout",
          "output_type": "stream",
          "text": [
            "number of unique words =  127\n"
          ]
        }
      ],
      "source": [
        "vacab_size = len(tokenizer.word_index)\n",
        "print('number of unique words = ', vacab_size)"
      ]
    },
    {
      "cell_type": "code",
      "execution_count": 9,
      "metadata": {
        "colab": {
          "base_uri": "https://localhost:8080/"
        },
        "id": "u1tSB16dLi06",
        "outputId": "de22aec9-7938-4c3b-f2b8-ba85d9a513ef"
      },
      "outputs": [
        {
          "name": "stdout",
          "output_type": "stream",
          "text": [
            "X shape =  (104, 9)\n",
            "y shape =  (104,)\n",
            "num of classes =  31\n"
          ]
        }
      ],
      "source": [
        "from tensorflow.keras.preprocessing.sequence import pad_sequences\n",
        "from sklearn.preprocessing import LabelEncoder\n",
        "\n",
        "ptrn2seq = tokenizer.texts_to_sequences(df['patterns'])\n",
        "X = pad_sequences(ptrn2seq, padding='post')\n",
        "print('X shape = ', X.shape)\n",
        "\n",
        "lbl_enc = LabelEncoder()\n",
        "y = lbl_enc.fit_transform(df['tag'])\n",
        "print('y shape = ', y.shape)\n",
        "print('num of classes = ', len(np.unique(y)))"
      ]
    },
    {
      "cell_type": "markdown",
      "metadata": {
        "id": "f_fU9h60Li07"
      },
      "source": [
        "# Build and Train Model"
      ]
    },
    {
      "cell_type": "code",
      "execution_count": 10,
      "metadata": {
        "colab": {
          "base_uri": "https://localhost:8080/",
          "height": 1000
        },
        "id": "vcTMecMSLi07",
        "outputId": "0fb3be0b-c131-4312-8d75-8e1997b91118"
      },
      "outputs": [
        {
          "data": {
            "text/html": [
              "<pre style=\"white-space:pre;overflow-x:auto;line-height:normal;font-family:Menlo,'DejaVu Sans Mono',consolas,'Courier New',monospace\"><span style=\"font-weight: bold\">Model: \"sequential\"</span>\n",
              "</pre>\n"
            ],
            "text/plain": [
              "\u001b[1mModel: \"sequential\"\u001b[0m\n"
            ]
          },
          "metadata": {},
          "output_type": "display_data"
        },
        {
          "data": {
            "text/html": [
              "<pre style=\"white-space:pre;overflow-x:auto;line-height:normal;font-family:Menlo,'DejaVu Sans Mono',consolas,'Courier New',monospace\">┏━━━━━━━━━━━━━━━━━━━━━━━━━━━━━━━━━┳━━━━━━━━━━━━━━━━━━━━━━━━┳━━━━━━━━━━━━━━━┓\n",
              "┃<span style=\"font-weight: bold\"> Layer (type)                    </span>┃<span style=\"font-weight: bold\"> Output Shape           </span>┃<span style=\"font-weight: bold\">       Param # </span>┃\n",
              "┡━━━━━━━━━━━━━━━━━━━━━━━━━━━━━━━━━╇━━━━━━━━━━━━━━━━━━━━━━━━╇━━━━━━━━━━━━━━━┩\n",
              "│ embedding (<span style=\"color: #0087ff; text-decoration-color: #0087ff\">Embedding</span>)           │ (<span style=\"color: #00d7ff; text-decoration-color: #00d7ff\">None</span>, <span style=\"color: #00af00; text-decoration-color: #00af00\">9</span>, <span style=\"color: #00af00; text-decoration-color: #00af00\">100</span>)         │        <span style=\"color: #00af00; text-decoration-color: #00af00\">12,800</span> │\n",
              "├─────────────────────────────────┼────────────────────────┼───────────────┤\n",
              "│ lstm (<span style=\"color: #0087ff; text-decoration-color: #0087ff\">LSTM</span>)                     │ (<span style=\"color: #00d7ff; text-decoration-color: #00d7ff\">None</span>, <span style=\"color: #00af00; text-decoration-color: #00af00\">9</span>, <span style=\"color: #00af00; text-decoration-color: #00af00\">32</span>)          │        <span style=\"color: #00af00; text-decoration-color: #00af00\">17,024</span> │\n",
              "├─────────────────────────────────┼────────────────────────┼───────────────┤\n",
              "│ layer_normalization             │ (<span style=\"color: #00d7ff; text-decoration-color: #00d7ff\">None</span>, <span style=\"color: #00af00; text-decoration-color: #00af00\">9</span>, <span style=\"color: #00af00; text-decoration-color: #00af00\">32</span>)          │            <span style=\"color: #00af00; text-decoration-color: #00af00\">64</span> │\n",
              "│ (<span style=\"color: #0087ff; text-decoration-color: #0087ff\">LayerNormalization</span>)            │                        │               │\n",
              "├─────────────────────────────────┼────────────────────────┼───────────────┤\n",
              "│ lstm_1 (<span style=\"color: #0087ff; text-decoration-color: #0087ff\">LSTM</span>)                   │ (<span style=\"color: #00d7ff; text-decoration-color: #00d7ff\">None</span>, <span style=\"color: #00af00; text-decoration-color: #00af00\">9</span>, <span style=\"color: #00af00; text-decoration-color: #00af00\">32</span>)          │         <span style=\"color: #00af00; text-decoration-color: #00af00\">8,320</span> │\n",
              "├─────────────────────────────────┼────────────────────────┼───────────────┤\n",
              "│ layer_normalization_1           │ (<span style=\"color: #00d7ff; text-decoration-color: #00d7ff\">None</span>, <span style=\"color: #00af00; text-decoration-color: #00af00\">9</span>, <span style=\"color: #00af00; text-decoration-color: #00af00\">32</span>)          │            <span style=\"color: #00af00; text-decoration-color: #00af00\">64</span> │\n",
              "│ (<span style=\"color: #0087ff; text-decoration-color: #0087ff\">LayerNormalization</span>)            │                        │               │\n",
              "├─────────────────────────────────┼────────────────────────┼───────────────┤\n",
              "│ lstm_2 (<span style=\"color: #0087ff; text-decoration-color: #0087ff\">LSTM</span>)                   │ (<span style=\"color: #00d7ff; text-decoration-color: #00d7ff\">None</span>, <span style=\"color: #00af00; text-decoration-color: #00af00\">32</span>)             │         <span style=\"color: #00af00; text-decoration-color: #00af00\">8,320</span> │\n",
              "├─────────────────────────────────┼────────────────────────┼───────────────┤\n",
              "│ layer_normalization_2           │ (<span style=\"color: #00d7ff; text-decoration-color: #00d7ff\">None</span>, <span style=\"color: #00af00; text-decoration-color: #00af00\">32</span>)             │            <span style=\"color: #00af00; text-decoration-color: #00af00\">64</span> │\n",
              "│ (<span style=\"color: #0087ff; text-decoration-color: #0087ff\">LayerNormalization</span>)            │                        │               │\n",
              "├─────────────────────────────────┼────────────────────────┼───────────────┤\n",
              "│ dense (<span style=\"color: #0087ff; text-decoration-color: #0087ff\">Dense</span>)                   │ (<span style=\"color: #00d7ff; text-decoration-color: #00d7ff\">None</span>, <span style=\"color: #00af00; text-decoration-color: #00af00\">128</span>)            │         <span style=\"color: #00af00; text-decoration-color: #00af00\">4,224</span> │\n",
              "├─────────────────────────────────┼────────────────────────┼───────────────┤\n",
              "│ layer_normalization_3           │ (<span style=\"color: #00d7ff; text-decoration-color: #00d7ff\">None</span>, <span style=\"color: #00af00; text-decoration-color: #00af00\">128</span>)            │           <span style=\"color: #00af00; text-decoration-color: #00af00\">256</span> │\n",
              "│ (<span style=\"color: #0087ff; text-decoration-color: #0087ff\">LayerNormalization</span>)            │                        │               │\n",
              "├─────────────────────────────────┼────────────────────────┼───────────────┤\n",
              "│ dropout (<span style=\"color: #0087ff; text-decoration-color: #0087ff\">Dropout</span>)               │ (<span style=\"color: #00d7ff; text-decoration-color: #00d7ff\">None</span>, <span style=\"color: #00af00; text-decoration-color: #00af00\">128</span>)            │             <span style=\"color: #00af00; text-decoration-color: #00af00\">0</span> │\n",
              "├─────────────────────────────────┼────────────────────────┼───────────────┤\n",
              "│ dense_1 (<span style=\"color: #0087ff; text-decoration-color: #0087ff\">Dense</span>)                 │ (<span style=\"color: #00d7ff; text-decoration-color: #00d7ff\">None</span>, <span style=\"color: #00af00; text-decoration-color: #00af00\">128</span>)            │        <span style=\"color: #00af00; text-decoration-color: #00af00\">16,512</span> │\n",
              "├─────────────────────────────────┼────────────────────────┼───────────────┤\n",
              "│ layer_normalization_4           │ (<span style=\"color: #00d7ff; text-decoration-color: #00d7ff\">None</span>, <span style=\"color: #00af00; text-decoration-color: #00af00\">128</span>)            │           <span style=\"color: #00af00; text-decoration-color: #00af00\">256</span> │\n",
              "│ (<span style=\"color: #0087ff; text-decoration-color: #0087ff\">LayerNormalization</span>)            │                        │               │\n",
              "├─────────────────────────────────┼────────────────────────┼───────────────┤\n",
              "│ dropout_1 (<span style=\"color: #0087ff; text-decoration-color: #0087ff\">Dropout</span>)             │ (<span style=\"color: #00d7ff; text-decoration-color: #00d7ff\">None</span>, <span style=\"color: #00af00; text-decoration-color: #00af00\">128</span>)            │             <span style=\"color: #00af00; text-decoration-color: #00af00\">0</span> │\n",
              "├─────────────────────────────────┼────────────────────────┼───────────────┤\n",
              "│ dense_2 (<span style=\"color: #0087ff; text-decoration-color: #0087ff\">Dense</span>)                 │ (<span style=\"color: #00d7ff; text-decoration-color: #00d7ff\">None</span>, <span style=\"color: #00af00; text-decoration-color: #00af00\">31</span>)             │         <span style=\"color: #00af00; text-decoration-color: #00af00\">3,999</span> │\n",
              "└─────────────────────────────────┴────────────────────────┴───────────────┘\n",
              "</pre>\n"
            ],
            "text/plain": [
              "┏━━━━━━━━━━━━━━━━━━━━━━━━━━━━━━━━━┳━━━━━━━━━━━━━━━━━━━━━━━━┳━━━━━━━━━━━━━━━┓\n",
              "┃\u001b[1m \u001b[0m\u001b[1mLayer (type)                   \u001b[0m\u001b[1m \u001b[0m┃\u001b[1m \u001b[0m\u001b[1mOutput Shape          \u001b[0m\u001b[1m \u001b[0m┃\u001b[1m \u001b[0m\u001b[1m      Param #\u001b[0m\u001b[1m \u001b[0m┃\n",
              "┡━━━━━━━━━━━━━━━━━━━━━━━━━━━━━━━━━╇━━━━━━━━━━━━━━━━━━━━━━━━╇━━━━━━━━━━━━━━━┩\n",
              "│ embedding (\u001b[38;5;33mEmbedding\u001b[0m)           │ (\u001b[38;5;45mNone\u001b[0m, \u001b[38;5;34m9\u001b[0m, \u001b[38;5;34m100\u001b[0m)         │        \u001b[38;5;34m12,800\u001b[0m │\n",
              "├─────────────────────────────────┼────────────────────────┼───────────────┤\n",
              "│ lstm (\u001b[38;5;33mLSTM\u001b[0m)                     │ (\u001b[38;5;45mNone\u001b[0m, \u001b[38;5;34m9\u001b[0m, \u001b[38;5;34m32\u001b[0m)          │        \u001b[38;5;34m17,024\u001b[0m │\n",
              "├─────────────────────────────────┼────────────────────────┼───────────────┤\n",
              "│ layer_normalization             │ (\u001b[38;5;45mNone\u001b[0m, \u001b[38;5;34m9\u001b[0m, \u001b[38;5;34m32\u001b[0m)          │            \u001b[38;5;34m64\u001b[0m │\n",
              "│ (\u001b[38;5;33mLayerNormalization\u001b[0m)            │                        │               │\n",
              "├─────────────────────────────────┼────────────────────────┼───────────────┤\n",
              "│ lstm_1 (\u001b[38;5;33mLSTM\u001b[0m)                   │ (\u001b[38;5;45mNone\u001b[0m, \u001b[38;5;34m9\u001b[0m, \u001b[38;5;34m32\u001b[0m)          │         \u001b[38;5;34m8,320\u001b[0m │\n",
              "├─────────────────────────────────┼────────────────────────┼───────────────┤\n",
              "│ layer_normalization_1           │ (\u001b[38;5;45mNone\u001b[0m, \u001b[38;5;34m9\u001b[0m, \u001b[38;5;34m32\u001b[0m)          │            \u001b[38;5;34m64\u001b[0m │\n",
              "│ (\u001b[38;5;33mLayerNormalization\u001b[0m)            │                        │               │\n",
              "├─────────────────────────────────┼────────────────────────┼───────────────┤\n",
              "│ lstm_2 (\u001b[38;5;33mLSTM\u001b[0m)                   │ (\u001b[38;5;45mNone\u001b[0m, \u001b[38;5;34m32\u001b[0m)             │         \u001b[38;5;34m8,320\u001b[0m │\n",
              "├─────────────────────────────────┼────────────────────────┼───────────────┤\n",
              "│ layer_normalization_2           │ (\u001b[38;5;45mNone\u001b[0m, \u001b[38;5;34m32\u001b[0m)             │            \u001b[38;5;34m64\u001b[0m │\n",
              "│ (\u001b[38;5;33mLayerNormalization\u001b[0m)            │                        │               │\n",
              "├─────────────────────────────────┼────────────────────────┼───────────────┤\n",
              "│ dense (\u001b[38;5;33mDense\u001b[0m)                   │ (\u001b[38;5;45mNone\u001b[0m, \u001b[38;5;34m128\u001b[0m)            │         \u001b[38;5;34m4,224\u001b[0m │\n",
              "├─────────────────────────────────┼────────────────────────┼───────────────┤\n",
              "│ layer_normalization_3           │ (\u001b[38;5;45mNone\u001b[0m, \u001b[38;5;34m128\u001b[0m)            │           \u001b[38;5;34m256\u001b[0m │\n",
              "│ (\u001b[38;5;33mLayerNormalization\u001b[0m)            │                        │               │\n",
              "├─────────────────────────────────┼────────────────────────┼───────────────┤\n",
              "│ dropout (\u001b[38;5;33mDropout\u001b[0m)               │ (\u001b[38;5;45mNone\u001b[0m, \u001b[38;5;34m128\u001b[0m)            │             \u001b[38;5;34m0\u001b[0m │\n",
              "├─────────────────────────────────┼────────────────────────┼───────────────┤\n",
              "│ dense_1 (\u001b[38;5;33mDense\u001b[0m)                 │ (\u001b[38;5;45mNone\u001b[0m, \u001b[38;5;34m128\u001b[0m)            │        \u001b[38;5;34m16,512\u001b[0m │\n",
              "├─────────────────────────────────┼────────────────────────┼───────────────┤\n",
              "│ layer_normalization_4           │ (\u001b[38;5;45mNone\u001b[0m, \u001b[38;5;34m128\u001b[0m)            │           \u001b[38;5;34m256\u001b[0m │\n",
              "│ (\u001b[38;5;33mLayerNormalization\u001b[0m)            │                        │               │\n",
              "├─────────────────────────────────┼────────────────────────┼───────────────┤\n",
              "│ dropout_1 (\u001b[38;5;33mDropout\u001b[0m)             │ (\u001b[38;5;45mNone\u001b[0m, \u001b[38;5;34m128\u001b[0m)            │             \u001b[38;5;34m0\u001b[0m │\n",
              "├─────────────────────────────────┼────────────────────────┼───────────────┤\n",
              "│ dense_2 (\u001b[38;5;33mDense\u001b[0m)                 │ (\u001b[38;5;45mNone\u001b[0m, \u001b[38;5;34m31\u001b[0m)             │         \u001b[38;5;34m3,999\u001b[0m │\n",
              "└─────────────────────────────────┴────────────────────────┴───────────────┘\n"
            ]
          },
          "metadata": {},
          "output_type": "display_data"
        },
        {
          "data": {
            "text/html": [
              "<pre style=\"white-space:pre;overflow-x:auto;line-height:normal;font-family:Menlo,'DejaVu Sans Mono',consolas,'Courier New',monospace\"><span style=\"font-weight: bold\"> Total params: </span><span style=\"color: #00af00; text-decoration-color: #00af00\">71,903</span> (280.87 KB)\n",
              "</pre>\n"
            ],
            "text/plain": [
              "\u001b[1m Total params: \u001b[0m\u001b[38;5;34m71,903\u001b[0m (280.87 KB)\n"
            ]
          },
          "metadata": {},
          "output_type": "display_data"
        },
        {
          "data": {
            "text/html": [
              "<pre style=\"white-space:pre;overflow-x:auto;line-height:normal;font-family:Menlo,'DejaVu Sans Mono',consolas,'Courier New',monospace\"><span style=\"font-weight: bold\"> Trainable params: </span><span style=\"color: #00af00; text-decoration-color: #00af00\">71,903</span> (280.87 KB)\n",
              "</pre>\n"
            ],
            "text/plain": [
              "\u001b[1m Trainable params: \u001b[0m\u001b[38;5;34m71,903\u001b[0m (280.87 KB)\n"
            ]
          },
          "metadata": {},
          "output_type": "display_data"
        },
        {
          "data": {
            "text/html": [
              "<pre style=\"white-space:pre;overflow-x:auto;line-height:normal;font-family:Menlo,'DejaVu Sans Mono',consolas,'Courier New',monospace\"><span style=\"font-weight: bold\"> Non-trainable params: </span><span style=\"color: #00af00; text-decoration-color: #00af00\">0</span> (0.00 B)\n",
              "</pre>\n"
            ],
            "text/plain": [
              "\u001b[1m Non-trainable params: \u001b[0m\u001b[38;5;34m0\u001b[0m (0.00 B)\n"
            ]
          },
          "metadata": {},
          "output_type": "display_data"
        },
        {
          "name": "stdout",
          "output_type": "stream",
          "text": [
            "You must install pydot (`pip install pydot`) for `plot_model` to work.\n"
          ]
        }
      ],
      "source": [
        "import tensorflow\n",
        "from tensorflow import keras\n",
        "from tensorflow.keras.models import Sequential\n",
        "from tensorflow.keras.layers import Input, Embedding, LSTM, LayerNormalization, Dense, Dropout\n",
        "from tensorflow.keras.utils import plot_model\n",
        "\n",
        "model = Sequential()\n",
        "model.add(Input(shape=(X.shape[1],)))\n",
        "model.add(Embedding(input_dim=vacab_size+1, output_dim=100, mask_zero=True))\n",
        "model.add(LSTM(32, return_sequences=True))\n",
        "model.add(LayerNormalization())\n",
        "model.add(LSTM(32, return_sequences=True))\n",
        "model.add(LayerNormalization())\n",
        "model.add(LSTM(32))\n",
        "model.add(LayerNormalization())\n",
        "model.add(Dense(128, activation=\"relu\"))\n",
        "model.add(LayerNormalization())\n",
        "model.add(Dropout(0.2))\n",
        "model.add(Dense(128, activation=\"relu\"))\n",
        "model.add(LayerNormalization())\n",
        "model.add(Dropout(0.2))\n",
        "model.add(Dense(len(np.unique(y)), activation=\"softmax\"))\n",
        "model.compile(optimizer='adam', loss=\"sparse_categorical_crossentropy\", metrics=['accuracy'])\n",
        "\n",
        "model.summary()\n",
        "plot_model(model, show_shapes=True)"
      ]
    },
    {
      "cell_type": "code",
      "execution_count": 11,
      "metadata": {
        "colab": {
          "base_uri": "https://localhost:8080/"
        },
        "id": "1ZzjNFkPLi08",
        "outputId": "df02e979-7e0a-43cb-eb12-af69fcf451a4"
      },
      "outputs": [
        {
          "name": "stdout",
          "output_type": "stream",
          "text": [
            "Epoch 1/100\n",
            "\u001b[1m11/11\u001b[0m \u001b[32m━━━━━━━━━━━━━━━━━━━━\u001b[0m\u001b[37m\u001b[0m \u001b[1m6s\u001b[0m 13ms/step - accuracy: 0.0354 - loss: 4.0749\n",
            "Epoch 2/100\n",
            "\u001b[1m11/11\u001b[0m \u001b[32m━━━━━━━━━━━━━━━━━━━━\u001b[0m\u001b[37m\u001b[0m \u001b[1m0s\u001b[0m 10ms/step - accuracy: 0.0480 - loss: 3.4805\n",
            "Epoch 3/100\n",
            "\u001b[1m11/11\u001b[0m \u001b[32m━━━━━━━━━━━━━━━━━━━━\u001b[0m\u001b[37m\u001b[0m \u001b[1m0s\u001b[0m 11ms/step - accuracy: 0.1763 - loss: 3.0850\n",
            "Epoch 4/100\n",
            "\u001b[1m11/11\u001b[0m \u001b[32m━━━━━━━━━━━━━━━━━━━━\u001b[0m\u001b[37m\u001b[0m \u001b[1m0s\u001b[0m 11ms/step - accuracy: 0.2757 - loss: 2.6210\n",
            "Epoch 5/100\n",
            "\u001b[1m11/11\u001b[0m \u001b[32m━━━━━━━━━━━━━━━━━━━━\u001b[0m\u001b[37m\u001b[0m \u001b[1m0s\u001b[0m 12ms/step - accuracy: 0.2980 - loss: 2.3159\n",
            "Epoch 6/100\n",
            "\u001b[1m11/11\u001b[0m \u001b[32m━━━━━━━━━━━━━━━━━━━━\u001b[0m\u001b[37m\u001b[0m \u001b[1m0s\u001b[0m 11ms/step - accuracy: 0.5180 - loss: 1.8142\n",
            "Epoch 7/100\n",
            "\u001b[1m11/11\u001b[0m \u001b[32m━━━━━━━━━━━━━━━━━━━━\u001b[0m\u001b[37m\u001b[0m \u001b[1m0s\u001b[0m 10ms/step - accuracy: 0.5996 - loss: 1.6172\n",
            "Epoch 8/100\n",
            "\u001b[1m11/11\u001b[0m \u001b[32m━━━━━━━━━━━━━━━━━━━━\u001b[0m\u001b[37m\u001b[0m \u001b[1m0s\u001b[0m 12ms/step - accuracy: 0.6707 - loss: 1.5431\n",
            "Epoch 9/100\n",
            "\u001b[1m11/11\u001b[0m \u001b[32m━━━━━━━━━━━━━━━━━━━━\u001b[0m\u001b[37m\u001b[0m \u001b[1m0s\u001b[0m 11ms/step - accuracy: 0.6510 - loss: 1.3967\n",
            "Epoch 10/100\n",
            "\u001b[1m11/11\u001b[0m \u001b[32m━━━━━━━━━━━━━━━━━━━━\u001b[0m\u001b[37m\u001b[0m \u001b[1m0s\u001b[0m 11ms/step - accuracy: 0.7401 - loss: 1.0148\n",
            "Epoch 11/100\n",
            "\u001b[1m11/11\u001b[0m \u001b[32m━━━━━━━━━━━━━━━━━━━━\u001b[0m\u001b[37m\u001b[0m \u001b[1m0s\u001b[0m 11ms/step - accuracy: 0.8412 - loss: 0.8601\n",
            "Epoch 12/100\n",
            "\u001b[1m11/11\u001b[0m \u001b[32m━━━━━━━━━━━━━━━━━━━━\u001b[0m\u001b[37m\u001b[0m \u001b[1m0s\u001b[0m 11ms/step - accuracy: 0.8540 - loss: 0.8186\n",
            "Epoch 13/100\n",
            "\u001b[1m11/11\u001b[0m \u001b[32m━━━━━━━━━━━━━━━━━━━━\u001b[0m\u001b[37m\u001b[0m \u001b[1m0s\u001b[0m 12ms/step - accuracy: 0.8498 - loss: 0.6807\n",
            "Epoch 14/100\n",
            "\u001b[1m11/11\u001b[0m \u001b[32m━━━━━━━━━━━━━━━━━━━━\u001b[0m\u001b[37m\u001b[0m \u001b[1m0s\u001b[0m 12ms/step - accuracy: 0.8685 - loss: 0.5705\n",
            "Epoch 15/100\n",
            "\u001b[1m11/11\u001b[0m \u001b[32m━━━━━━━━━━━━━━━━━━━━\u001b[0m\u001b[37m\u001b[0m \u001b[1m0s\u001b[0m 12ms/step - accuracy: 0.9099 - loss: 0.5507\n",
            "Epoch 16/100\n",
            "\u001b[1m11/11\u001b[0m \u001b[32m━━━━━━━━━━━━━━━━━━━━\u001b[0m\u001b[37m\u001b[0m \u001b[1m0s\u001b[0m 12ms/step - accuracy: 0.9078 - loss: 0.4330\n",
            "Epoch 17/100\n",
            "\u001b[1m11/11\u001b[0m \u001b[32m━━━━━━━━━━━━━━━━━━━━\u001b[0m\u001b[37m\u001b[0m \u001b[1m0s\u001b[0m 12ms/step - accuracy: 0.9214 - loss: 0.3308\n",
            "Epoch 18/100\n",
            "\u001b[1m11/11\u001b[0m \u001b[32m━━━━━━━━━━━━━━━━━━━━\u001b[0m\u001b[37m\u001b[0m \u001b[1m0s\u001b[0m 12ms/step - accuracy: 0.9487 - loss: 0.3267\n",
            "Epoch 19/100\n",
            "\u001b[1m11/11\u001b[0m \u001b[32m━━━━━━━━━━━━━━━━━━━━\u001b[0m\u001b[37m\u001b[0m \u001b[1m0s\u001b[0m 11ms/step - accuracy: 0.9716 - loss: 0.2806\n",
            "Epoch 20/100\n",
            "\u001b[1m11/11\u001b[0m \u001b[32m━━━━━━━━━━━━━━━━━━━━\u001b[0m\u001b[37m\u001b[0m \u001b[1m0s\u001b[0m 12ms/step - accuracy: 0.9735 - loss: 0.1879\n",
            "Epoch 21/100\n",
            "\u001b[1m11/11\u001b[0m \u001b[32m━━━━━━━━━━━━━━━━━━━━\u001b[0m\u001b[37m\u001b[0m \u001b[1m0s\u001b[0m 12ms/step - accuracy: 0.9786 - loss: 0.1977\n",
            "Epoch 22/100\n",
            "\u001b[1m11/11\u001b[0m \u001b[32m━━━━━━━━━━━━━━━━━━━━\u001b[0m\u001b[37m\u001b[0m \u001b[1m0s\u001b[0m 12ms/step - accuracy: 0.9803 - loss: 0.1869\n"
          ]
        }
      ],
      "source": [
        "model_history = model.fit(x=X,\n",
        "                          y=y,\n",
        "                          batch_size=10,\n",
        "                          callbacks=[tensorflow.keras.callbacks.EarlyStopping(monitor='accuracy', patience=3)],\n",
        "                          epochs=100)"
      ]
    },
    {
      "cell_type": "code",
      "execution_count": 12,
      "metadata": {
        "id": "yPwx3NTAPNYm"
      },
      "outputs": [],
      "source": [
        "import re\n",
        "import random"
      ]
    },
    {
      "cell_type": "code",
      "execution_count": 26,
      "metadata": {},
      "outputs": [
        {
          "data": {
            "text/plain": [
              "(104, 9)"
            ]
          },
          "execution_count": 26,
          "metadata": {},
          "output_type": "execute_result"
        }
      ],
      "source": [
        "X.shape"
      ]
    },
    {
      "cell_type": "code",
      "execution_count": 20,
      "metadata": {
        "colab": {
          "base_uri": "https://localhost:8080/"
        },
        "id": "ZCWOYBxHLi0_",
        "outputId": "0895a016-d983-4d1c-ad24-fd66f0e17718"
      },
      "outputs": [
        {
          "ename": "ValueError",
          "evalue": "Exception encountered when calling Sequential.call().\n\n\u001b[1mInvalid input shape for input Tensor(\"sequential_1/Cast:0\", shape=(1, 9, None), dtype=float32). Expected shape (None, 9), but input has incompatible shape (1, 9, None)\u001b[0m\n\nArguments received by Sequential.call():\n  • inputs=tf.Tensor(shape=(1, 9, None), dtype=int32)\n  • training=False\n  • mask=None",
          "output_type": "error",
          "traceback": [
            "\u001b[1;31m---------------------------------------------------------------------------\u001b[0m",
            "\u001b[1;31mValueError\u001b[0m                                Traceback (most recent call last)",
            "Cell \u001b[1;32mIn[20], line 31\u001b[0m\n\u001b[0;32m     29\u001b[0m     \u001b[38;5;28;01mbreak\u001b[39;00m\n\u001b[0;32m     30\u001b[0m \u001b[38;5;28;01melse\u001b[39;00m:\n\u001b[1;32m---> 31\u001b[0m     \u001b[43mgenerate_answer\u001b[49m\u001b[43m(\u001b[49m\u001b[43mpattern\u001b[49m\u001b[43m)\u001b[49m\n",
            "Cell \u001b[1;32mIn[20], line 13\u001b[0m, in \u001b[0;36mgenerate_answer\u001b[1;34m(pattern)\u001b[0m\n\u001b[0;32m     11\u001b[0m x_test \u001b[38;5;241m=\u001b[39m tokenizer\u001b[38;5;241m.\u001b[39mtexts_to_sequences(text)\n\u001b[0;32m     12\u001b[0m x_test \u001b[38;5;241m=\u001b[39m pad_sequences([x_test], padding\u001b[38;5;241m=\u001b[39m\u001b[38;5;124m'\u001b[39m\u001b[38;5;124mpost\u001b[39m\u001b[38;5;124m'\u001b[39m, maxlen\u001b[38;5;241m=\u001b[39mX\u001b[38;5;241m.\u001b[39mshape[\u001b[38;5;241m1\u001b[39m])\n\u001b[1;32m---> 13\u001b[0m y_pred \u001b[38;5;241m=\u001b[39m \u001b[43mmodel\u001b[49m\u001b[38;5;241;43m.\u001b[39;49m\u001b[43mpredict\u001b[49m\u001b[43m(\u001b[49m\u001b[43mx_test\u001b[49m\u001b[43m)\u001b[49m\n\u001b[0;32m     14\u001b[0m y_pred \u001b[38;5;241m=\u001b[39m y_pred\u001b[38;5;241m.\u001b[39margmax()\n\u001b[0;32m     15\u001b[0m tag \u001b[38;5;241m=\u001b[39m lbl_enc\u001b[38;5;241m.\u001b[39minverse_transform([y_pred])[\u001b[38;5;241m0\u001b[39m]\n",
            "File \u001b[1;32mc:\\Users\\harih\\AppData\\Local\\Programs\\Python\\Python312\\Lib\\site-packages\\keras\\src\\utils\\traceback_utils.py:122\u001b[0m, in \u001b[0;36mfilter_traceback.<locals>.error_handler\u001b[1;34m(*args, **kwargs)\u001b[0m\n\u001b[0;32m    119\u001b[0m     filtered_tb \u001b[38;5;241m=\u001b[39m _process_traceback_frames(e\u001b[38;5;241m.\u001b[39m__traceback__)\n\u001b[0;32m    120\u001b[0m     \u001b[38;5;66;03m# To get the full stack trace, call:\u001b[39;00m\n\u001b[0;32m    121\u001b[0m     \u001b[38;5;66;03m# `keras.config.disable_traceback_filtering()`\u001b[39;00m\n\u001b[1;32m--> 122\u001b[0m     \u001b[38;5;28;01mraise\u001b[39;00m e\u001b[38;5;241m.\u001b[39mwith_traceback(filtered_tb) \u001b[38;5;28;01mfrom\u001b[39;00m \u001b[38;5;28;01mNone\u001b[39;00m\n\u001b[0;32m    123\u001b[0m \u001b[38;5;28;01mfinally\u001b[39;00m:\n\u001b[0;32m    124\u001b[0m     \u001b[38;5;28;01mdel\u001b[39;00m filtered_tb\n",
            "File \u001b[1;32mc:\\Users\\harih\\AppData\\Local\\Programs\\Python\\Python312\\Lib\\site-packages\\keras\\src\\models\\functional.py:264\u001b[0m, in \u001b[0;36mFunctional._adjust_input_rank\u001b[1;34m(self, flat_inputs)\u001b[0m\n\u001b[0;32m    262\u001b[0m             adjusted\u001b[38;5;241m.\u001b[39mappend(ops\u001b[38;5;241m.\u001b[39mexpand_dims(x, axis\u001b[38;5;241m=\u001b[39m\u001b[38;5;241m-\u001b[39m\u001b[38;5;241m1\u001b[39m))\n\u001b[0;32m    263\u001b[0m             \u001b[38;5;28;01mcontinue\u001b[39;00m\n\u001b[1;32m--> 264\u001b[0m     \u001b[38;5;28;01mraise\u001b[39;00m \u001b[38;5;167;01mValueError\u001b[39;00m(\n\u001b[0;32m    265\u001b[0m         \u001b[38;5;124mf\u001b[39m\u001b[38;5;124m\"\u001b[39m\u001b[38;5;124mInvalid input shape for input \u001b[39m\u001b[38;5;132;01m{\u001b[39;00mx\u001b[38;5;132;01m}\u001b[39;00m\u001b[38;5;124m. Expected shape \u001b[39m\u001b[38;5;124m\"\u001b[39m\n\u001b[0;32m    266\u001b[0m         \u001b[38;5;124mf\u001b[39m\u001b[38;5;124m\"\u001b[39m\u001b[38;5;132;01m{\u001b[39;00mref_shape\u001b[38;5;132;01m}\u001b[39;00m\u001b[38;5;124m, but input has incompatible shape \u001b[39m\u001b[38;5;132;01m{\u001b[39;00mx\u001b[38;5;241m.\u001b[39mshape\u001b[38;5;132;01m}\u001b[39;00m\u001b[38;5;124m\"\u001b[39m\n\u001b[0;32m    267\u001b[0m     )\n\u001b[0;32m    268\u001b[0m \u001b[38;5;66;03m# Add back metadata.\u001b[39;00m\n\u001b[0;32m    269\u001b[0m \u001b[38;5;28;01mfor\u001b[39;00m i \u001b[38;5;129;01min\u001b[39;00m \u001b[38;5;28mrange\u001b[39m(\u001b[38;5;28mlen\u001b[39m(flat_inputs)):\n",
            "\u001b[1;31mValueError\u001b[0m: Exception encountered when calling Sequential.call().\n\n\u001b[1mInvalid input shape for input Tensor(\"sequential_1/Cast:0\", shape=(1, 9, None), dtype=float32). Expected shape (None, 9), but input has incompatible shape (1, 9, None)\u001b[0m\n\nArguments received by Sequential.call():\n  • inputs=tf.Tensor(shape=(1, 9, None), dtype=int32)\n  • training=False\n  • mask=None"
          ]
        }
      ],
      "source": [
        "def generate_answer(pattern):\n",
        "    # Tokenize and preprocess the input pattern\n",
        "    text = []\n",
        "    txt = re.sub('[^a-zA-Z\\']', ' ', pattern)\n",
        "    txt = txt.lower()\n",
        "    txt = txt.split()\n",
        "    txt = \" \".join(txt)\n",
        "    text.append(txt)\n",
        "\n",
        "    # Convert the input pattern to sequence and make prediction\n",
        "    x_test = tokenizer.texts_to_sequences(text)\n",
        "    x_test = pad_sequences([x_test], padding='post', maxlen=X.shape[1])\n",
        "    y_pred = model.predict(x_test)\n",
        "    y_pred = y_pred.argmax()\n",
        "    tag = lbl_enc.inverse_transform([y_pred])[0]\n",
        "\n",
        "    # Get the corresponding responses for the predicted tag\n",
        "    responses = df[df['tag'] == tag]['responses'].values[0]\n",
        "\n",
        "    # Print the input pattern and a random response\n",
        "    print(\"you: {}\".format(pattern))\n",
        "    print(\"model: {}\".format(random.choice(responses)))\n",
        "\n",
        "# Keep asking for input until the user types \"goodbye\" or \"bye\"\n",
        "while True:\n",
        "    pattern = input(\"You: \")\n",
        "    if pattern.lower() in ['goodbye', 'bye']:\n",
        "        print(\"Chatbot: Goodbye! Have a great day!\")\n",
        "        break\n",
        "    else:\n",
        "        generate_answer(pattern)\n"
      ]
    },
    {
      "cell_type": "code",
      "execution_count": 16,
      "metadata": {
        "colab": {
          "base_uri": "https://localhost:8080/"
        },
        "id": "2KbWway9gv15",
        "outputId": "bd0ee6e6-f366-413f-f502-8010e25ed3d4"
      },
      "outputs": [
        {
          "name": "stderr",
          "output_type": "stream",
          "text": [
            "WARNING:absl:You are saving your model as an HDF5 file via `model.save()` or `keras.saving.save_model(model)`. This file format is considered legacy. We recommend using instead the native Keras format, e.g. `model.save('my_model.keras')` or `keras.saving.save_model(model, 'my_model.keras')`. \n"
          ]
        }
      ],
      "source": [
        "model.save('chatbot_model.h5')"
      ]
    },
    {
      "cell_type": "code",
      "execution_count": 17,
      "metadata": {
        "id": "-pNujDeTg9dC"
      },
      "outputs": [],
      "source": [
        "import pickle\n",
        "\n",
        "# Save the tokenizer\n",
        "with open('tokenizer.pkl', 'wb') as handle:\n",
        "    pickle.dump(tokenizer, handle, protocol=pickle.HIGHEST_PROTOCOL)\n",
        "\n",
        "# Save the label encoder\n",
        "with open('label_encoder.pkl', 'wb') as handle:\n",
        "    pickle.dump(lbl_enc, handle, protocol=pickle.HIGHEST_PROTOCOL)"
      ]
    },
    {
      "cell_type": "code",
      "execution_count": 21,
      "metadata": {},
      "outputs": [],
      "source": [
        "from tensorflow.keras.models import load_model"
      ]
    },
    {
      "cell_type": "code",
      "execution_count": 22,
      "metadata": {},
      "outputs": [
        {
          "name": "stderr",
          "output_type": "stream",
          "text": [
            "WARNING:absl:Compiled the loaded model, but the compiled metrics have yet to be built. `model.compile_metrics` will be empty until you train or evaluate the model.\n"
          ]
        }
      ],
      "source": [
        "model = load_model('chatbot_model.h5')\n",
        "\n",
        "# Load the tokenizer and label encoder\n",
        "with open('tokenizer.pkl', 'rb') as handle:\n",
        "    tokenizer = pickle.load(handle)\n",
        "\n",
        "with open('label_encoder.pkl', 'rb') as handle:\n",
        "    lbl_enc = pickle.load(handle)\n",
        "\n",
        "# Load intents file\n",
        "with open('intents1.json', 'r') as f:\n",
        "    intents = json.load(f)"
      ]
    },
    {
      "cell_type": "code",
      "execution_count": 23,
      "metadata": {},
      "outputs": [],
      "source": [
        "def preprocess_text(pattern):\n",
        "    text = []\n",
        "    txt = re.sub('[^a-zA-Z\\']', ' ', pattern)\n",
        "    txt = txt.lower()\n",
        "    txt = txt.split()\n",
        "    txt = \" \".join(txt)\n",
        "    text.append(txt)\n",
        "    return text"
      ]
    },
    {
      "cell_type": "code",
      "execution_count": 24,
      "metadata": {},
      "outputs": [],
      "source": [
        "def generate_answer(pattern):\n",
        "    # Preprocess the input pattern\n",
        "    text = preprocess_text(pattern)\n",
        "\n",
        "    # Convert the input pattern to sequence and make prediction\n",
        "    x_test = tokenizer.texts_to_sequences(text)\n",
        "    x_test = pad_sequences(x_test, padding='post', maxlen=X.shape[1])  # Shape should be (1, sequence_length)\n",
        "    \n",
        "    # Make sure x_test is 2D with shape (1, sequence_length) where 1 is the batch size\n",
        "    y_pred = model.predict(x_test)\n",
        "    y_pred = y_pred.argmax()\n",
        "    tag = lbl_enc.inverse_transform([y_pred])[0]\n",
        "\n",
        "    # Get the corresponding responses for the predicted tag\n",
        "    for intent in intents['intents']:\n",
        "        if intent['tag'] == tag:\n",
        "            response = random.choice(intent['responses'])\n",
        "            break\n",
        "    return response\n",
        "\n"
      ]
    },
    {
      "cell_type": "code",
      "execution_count": 25,
      "metadata": {},
      "outputs": [
        {
          "name": "stdout",
          "output_type": "stream",
          "text": [
            "\u001b[1m1/1\u001b[0m \u001b[32m━━━━━━━━━━━━━━━━━━━━\u001b[0m\u001b[37m\u001b[0m \u001b[1m0s\u001b[0m 415ms/step\n"
          ]
        },
        {
          "data": {
            "text/plain": [
              "'Health insurance is critical to manage medical expenses. Would you like help finding a suitable health plan?'"
            ]
          },
          "execution_count": 25,
          "metadata": {},
          "output_type": "execute_result"
        }
      ],
      "source": [
        "generate_answer(\"What is health insurance?\")"
      ]
    },
    {
      "cell_type": "code",
      "execution_count": null,
      "metadata": {},
      "outputs": [],
      "source": []
    }
  ],
  "metadata": {
    "colab": {
      "provenance": []
    },
    "kernelspec": {
      "display_name": "Python 3",
      "language": "python",
      "name": "python3"
    },
    "language_info": {
      "codemirror_mode": {
        "name": "ipython",
        "version": 3
      },
      "file_extension": ".py",
      "mimetype": "text/x-python",
      "name": "python",
      "nbconvert_exporter": "python",
      "pygments_lexer": "ipython3",
      "version": "3.12.4"
    }
  },
  "nbformat": 4,
  "nbformat_minor": 0
}
